{
 "cells": [
  {
   "cell_type": "code",
   "execution_count": 16,
   "id": "7487821e",
   "metadata": {},
   "outputs": [],
   "source": [
    "import requests\n",
    "import pandas as pd"
   ]
  },
  {
   "cell_type": "markdown",
   "id": "ed0b4811",
   "metadata": {},
   "source": [
    "## Api and base url decleration"
   ]
  },
  {
   "cell_type": "code",
   "execution_count": 33,
   "id": "64ee502f",
   "metadata": {},
   "outputs": [],
   "source": [
    "api_key = '1e4408e4e10f45369c6a202ad458a65d'\n",
    "base_url = 'https://newsapi.org/v2/everything'"
   ]
  },
  {
   "cell_type": "markdown",
   "id": "21a0d065",
   "metadata": {},
   "source": [
    "## Target company variable"
   ]
  },
  {
   "cell_type": "code",
   "execution_count": 34,
   "id": "a0df4952",
   "metadata": {},
   "outputs": [],
   "source": [
    "company_name = 'HDFC Bank Limited (HDB)'"
   ]
  },
  {
   "cell_type": "markdown",
   "id": "741910fa",
   "metadata": {},
   "source": [
    "## Date to extract from till to"
   ]
  },
  {
   "cell_type": "code",
   "execution_count": 53,
   "id": "c70a5977",
   "metadata": {},
   "outputs": [],
   "source": [
    "from_date = '2023-12-27'\n",
    "to_date = '2024-01-27'"
   ]
  },
  {
   "cell_type": "markdown",
   "id": "c56eb626",
   "metadata": {},
   "source": [
    "## Define parameters for API request"
   ]
  },
  {
   "cell_type": "code",
   "execution_count": 54,
   "id": "f0c36135",
   "metadata": {},
   "outputs": [],
   "source": [
    "params = {\n",
    "    'q': company_name,\n",
    "    'apiKey': api_key,\n",
    "    'from': from_date,\n",
    "    'to': to_date,\n",
    "}"
   ]
  },
  {
   "cell_type": "markdown",
   "id": "dc78b2a6",
   "metadata": {},
   "source": [
    "## Make API request"
   ]
  },
  {
   "cell_type": "code",
   "execution_count": 55,
   "id": "0afc9c78",
   "metadata": {},
   "outputs": [],
   "source": [
    "response = requests.get(base_url, params=params)"
   ]
  },
  {
   "cell_type": "markdown",
   "id": "ab408fb1",
   "metadata": {},
   "source": [
    "## Check if the request was successful (status code 200)"
   ]
  },
  {
   "cell_type": "code",
   "execution_count": 60,
   "id": "2836f267",
   "metadata": {},
   "outputs": [],
   "source": [
    "\n",
    "if response.status_code == 200:\n",
    "    # Parse JSON response\n",
    "    data = response.json()\n",
    "    \n",
    "    # Check if 'articles' key is present in the response\n",
    "    if 'articles' in data:\n",
    "        # Extract relevant information\n",
    "        headlines = [article['title'] for article in data['articles']]\n",
    "        \n",
    "        \n",
    "        # Create a DataFrame and save it to CSV\n",
    "        df = pd.DataFrame({'Headlines': headlines})\n",
    "        df.to_csv('news_headlines.csv', index=False)\n",
    "        \n",
    "    else:\n",
    "        print('No article found in the response.')\n",
    "\n",
    "else:\n",
    "    print(f'Error: {response.status_code}')\n",
    "    "
   ]
  },
  {
   "cell_type": "code",
   "execution_count": 61,
   "id": "28f3f7ed",
   "metadata": {},
   "outputs": [
    {
     "data": {
      "text/html": [
       "<div>\n",
       "<style scoped>\n",
       "    .dataframe tbody tr th:only-of-type {\n",
       "        vertical-align: middle;\n",
       "    }\n",
       "\n",
       "    .dataframe tbody tr th {\n",
       "        vertical-align: top;\n",
       "    }\n",
       "\n",
       "    .dataframe thead th {\n",
       "        text-align: right;\n",
       "    }\n",
       "</style>\n",
       "<table border=\"1\" class=\"dataframe\">\n",
       "  <thead>\n",
       "    <tr style=\"text-align: right;\">\n",
       "      <th></th>\n",
       "      <th>Headlines</th>\n",
       "    </tr>\n",
       "  </thead>\n",
       "  <tbody>\n",
       "    <tr>\n",
       "      <th>0</th>\n",
       "      <td>Should You Consider Adding HDFC Bank Limited (...</td>\n",
       "    </tr>\n",
       "    <tr>\n",
       "      <th>1</th>\n",
       "      <td>BSW Wealth Partners Purchases New Shares in HD...</td>\n",
       "    </tr>\n",
       "    <tr>\n",
       "      <th>2</th>\n",
       "      <td>Principal Financial Group Inc. Sells 10,864 Sh...</td>\n",
       "    </tr>\n",
       "    <tr>\n",
       "      <th>3</th>\n",
       "      <td>HDFC Bank Limited (NYSE:HDB) Short Interest Up...</td>\n",
       "    </tr>\n",
       "    <tr>\n",
       "      <th>4</th>\n",
       "      <td>Handelsinvest Investeringsforvaltning Reduces ...</td>\n",
       "    </tr>\n",
       "  </tbody>\n",
       "</table>\n",
       "</div>"
      ],
      "text/plain": [
       "                                           Headlines\n",
       "0  Should You Consider Adding HDFC Bank Limited (...\n",
       "1  BSW Wealth Partners Purchases New Shares in HD...\n",
       "2  Principal Financial Group Inc. Sells 10,864 Sh...\n",
       "3  HDFC Bank Limited (NYSE:HDB) Short Interest Up...\n",
       "4  Handelsinvest Investeringsforvaltning Reduces ..."
      ]
     },
     "execution_count": 61,
     "metadata": {},
     "output_type": "execute_result"
    }
   ],
   "source": [
    "df.head()"
   ]
  },
  {
   "cell_type": "code",
   "execution_count": 62,
   "id": "823e2941",
   "metadata": {},
   "outputs": [
    {
     "data": {
      "text/html": [
       "<div>\n",
       "<style scoped>\n",
       "    .dataframe tbody tr th:only-of-type {\n",
       "        vertical-align: middle;\n",
       "    }\n",
       "\n",
       "    .dataframe tbody tr th {\n",
       "        vertical-align: top;\n",
       "    }\n",
       "\n",
       "    .dataframe thead th {\n",
       "        text-align: right;\n",
       "    }\n",
       "</style>\n",
       "<table border=\"1\" class=\"dataframe\">\n",
       "  <thead>\n",
       "    <tr style=\"text-align: right;\">\n",
       "      <th></th>\n",
       "      <th>Headlines</th>\n",
       "    </tr>\n",
       "  </thead>\n",
       "  <tbody>\n",
       "    <tr>\n",
       "      <th>16</th>\n",
       "      <td>Fifth Third Bancorp Reduces Stock Position in ...</td>\n",
       "    </tr>\n",
       "    <tr>\n",
       "      <th>17</th>\n",
       "      <td>Matthews International Capital Management LLC ...</td>\n",
       "    </tr>\n",
       "    <tr>\n",
       "      <th>18</th>\n",
       "      <td>Advisor OS LLC Buys 1,179 Shares of HDFC Bank ...</td>\n",
       "    </tr>\n",
       "    <tr>\n",
       "      <th>19</th>\n",
       "      <td>Stock Market Live Updates: Asian markets mixed...</td>\n",
       "    </tr>\n",
       "    <tr>\n",
       "      <th>20</th>\n",
       "      <td>Share Market Highlights 12 January 2024: Sense...</td>\n",
       "    </tr>\n",
       "  </tbody>\n",
       "</table>\n",
       "</div>"
      ],
      "text/plain": [
       "                                            Headlines\n",
       "16  Fifth Third Bancorp Reduces Stock Position in ...\n",
       "17  Matthews International Capital Management LLC ...\n",
       "18  Advisor OS LLC Buys 1,179 Shares of HDFC Bank ...\n",
       "19  Stock Market Live Updates: Asian markets mixed...\n",
       "20  Share Market Highlights 12 January 2024: Sense..."
      ]
     },
     "execution_count": 62,
     "metadata": {},
     "output_type": "execute_result"
    }
   ],
   "source": [
    "df.tail()"
   ]
  },
  {
   "cell_type": "code",
   "execution_count": 63,
   "id": "1d5141f7",
   "metadata": {},
   "outputs": [
    {
     "data": {
      "text/html": [
       "<div>\n",
       "<style scoped>\n",
       "    .dataframe tbody tr th:only-of-type {\n",
       "        vertical-align: middle;\n",
       "    }\n",
       "\n",
       "    .dataframe tbody tr th {\n",
       "        vertical-align: top;\n",
       "    }\n",
       "\n",
       "    .dataframe thead th {\n",
       "        text-align: right;\n",
       "    }\n",
       "</style>\n",
       "<table border=\"1\" class=\"dataframe\">\n",
       "  <thead>\n",
       "    <tr style=\"text-align: right;\">\n",
       "      <th></th>\n",
       "      <th>Headlines</th>\n",
       "    </tr>\n",
       "  </thead>\n",
       "  <tbody>\n",
       "    <tr>\n",
       "      <th>0</th>\n",
       "      <td>Should You Consider Adding HDFC Bank Limited (...</td>\n",
       "    </tr>\n",
       "    <tr>\n",
       "      <th>1</th>\n",
       "      <td>BSW Wealth Partners Purchases New Shares in HD...</td>\n",
       "    </tr>\n",
       "    <tr>\n",
       "      <th>2</th>\n",
       "      <td>Principal Financial Group Inc. Sells 10,864 Sh...</td>\n",
       "    </tr>\n",
       "    <tr>\n",
       "      <th>3</th>\n",
       "      <td>HDFC Bank Limited (NYSE:HDB) Short Interest Up...</td>\n",
       "    </tr>\n",
       "    <tr>\n",
       "      <th>4</th>\n",
       "      <td>Handelsinvest Investeringsforvaltning Reduces ...</td>\n",
       "    </tr>\n",
       "    <tr>\n",
       "      <th>5</th>\n",
       "      <td>HDFC Bank (NYSE:HDB) Shares Gap Up to $55.59</td>\n",
       "    </tr>\n",
       "    <tr>\n",
       "      <th>6</th>\n",
       "      <td>Migdal Insurance &amp; Financial Holdings Ltd. Rai...</td>\n",
       "    </tr>\n",
       "    <tr>\n",
       "      <th>7</th>\n",
       "      <td>Orion Portfolio Solutions LLC Has $5.63 Millio...</td>\n",
       "    </tr>\n",
       "    <tr>\n",
       "      <th>8</th>\n",
       "      <td>HDFC Bank Limited (NYSE:HDB) Shares Sold by Yo...</td>\n",
       "    </tr>\n",
       "    <tr>\n",
       "      <th>9</th>\n",
       "      <td>Maple Brown Abbott Ltd Purchases New Stake in ...</td>\n",
       "    </tr>\n",
       "    <tr>\n",
       "      <th>10</th>\n",
       "      <td>HDFC Bank Limited (NYSE:HDB) Position Lifted b...</td>\n",
       "    </tr>\n",
       "    <tr>\n",
       "      <th>11</th>\n",
       "      <td>Brown Advisory Inc. Purchases 250,261 Shares o...</td>\n",
       "    </tr>\n",
       "    <tr>\n",
       "      <th>12</th>\n",
       "      <td>Channel Wealth LLC Raises Stake in HDFC Bank L...</td>\n",
       "    </tr>\n",
       "    <tr>\n",
       "      <th>13</th>\n",
       "      <td>HDFC Bank (NYSE:HDB) Sees Large Volume Increase</td>\n",
       "    </tr>\n",
       "    <tr>\n",
       "      <th>14</th>\n",
       "      <td>HDFC Bank Limited (NYSE:HDB) Position Increase...</td>\n",
       "    </tr>\n",
       "    <tr>\n",
       "      <th>15</th>\n",
       "      <td>Capital Insight Partners LLC Raises Position i...</td>\n",
       "    </tr>\n",
       "    <tr>\n",
       "      <th>16</th>\n",
       "      <td>Fifth Third Bancorp Reduces Stock Position in ...</td>\n",
       "    </tr>\n",
       "    <tr>\n",
       "      <th>17</th>\n",
       "      <td>Matthews International Capital Management LLC ...</td>\n",
       "    </tr>\n",
       "    <tr>\n",
       "      <th>18</th>\n",
       "      <td>Advisor OS LLC Buys 1,179 Shares of HDFC Bank ...</td>\n",
       "    </tr>\n",
       "    <tr>\n",
       "      <th>19</th>\n",
       "      <td>Stock Market Live Updates: Asian markets mixed...</td>\n",
       "    </tr>\n",
       "    <tr>\n",
       "      <th>20</th>\n",
       "      <td>Share Market Highlights 12 January 2024: Sense...</td>\n",
       "    </tr>\n",
       "  </tbody>\n",
       "</table>\n",
       "</div>"
      ],
      "text/plain": [
       "                                            Headlines\n",
       "0   Should You Consider Adding HDFC Bank Limited (...\n",
       "1   BSW Wealth Partners Purchases New Shares in HD...\n",
       "2   Principal Financial Group Inc. Sells 10,864 Sh...\n",
       "3   HDFC Bank Limited (NYSE:HDB) Short Interest Up...\n",
       "4   Handelsinvest Investeringsforvaltning Reduces ...\n",
       "5        HDFC Bank (NYSE:HDB) Shares Gap Up to $55.59\n",
       "6   Migdal Insurance & Financial Holdings Ltd. Rai...\n",
       "7   Orion Portfolio Solutions LLC Has $5.63 Millio...\n",
       "8   HDFC Bank Limited (NYSE:HDB) Shares Sold by Yo...\n",
       "9   Maple Brown Abbott Ltd Purchases New Stake in ...\n",
       "10  HDFC Bank Limited (NYSE:HDB) Position Lifted b...\n",
       "11  Brown Advisory Inc. Purchases 250,261 Shares o...\n",
       "12  Channel Wealth LLC Raises Stake in HDFC Bank L...\n",
       "13    HDFC Bank (NYSE:HDB) Sees Large Volume Increase\n",
       "14  HDFC Bank Limited (NYSE:HDB) Position Increase...\n",
       "15  Capital Insight Partners LLC Raises Position i...\n",
       "16  Fifth Third Bancorp Reduces Stock Position in ...\n",
       "17  Matthews International Capital Management LLC ...\n",
       "18  Advisor OS LLC Buys 1,179 Shares of HDFC Bank ...\n",
       "19  Stock Market Live Updates: Asian markets mixed...\n",
       "20  Share Market Highlights 12 January 2024: Sense..."
      ]
     },
     "execution_count": 63,
     "metadata": {},
     "output_type": "execute_result"
    }
   ],
   "source": [
    "df"
   ]
  },
  {
   "cell_type": "code",
   "execution_count": null,
   "id": "8007fff4",
   "metadata": {},
   "outputs": [],
   "source": []
  }
 ],
 "metadata": {
  "kernelspec": {
   "display_name": "Python 3 (ipykernel)",
   "language": "python",
   "name": "python3"
  },
  "language_info": {
   "codemirror_mode": {
    "name": "ipython",
    "version": 3
   },
   "file_extension": ".py",
   "mimetype": "text/x-python",
   "name": "python",
   "nbconvert_exporter": "python",
   "pygments_lexer": "ipython3",
   "version": "3.11.3"
  }
 },
 "nbformat": 4,
 "nbformat_minor": 5
}
